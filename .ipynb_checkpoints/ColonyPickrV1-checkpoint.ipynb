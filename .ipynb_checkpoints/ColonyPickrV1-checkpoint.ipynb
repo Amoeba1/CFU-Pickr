{
 "cells": [
  {
   "cell_type": "markdown",
   "metadata": {},
   "source": [
    "# Colony Picking Optomizer\n",
    "\n",
    "### Author: Frank Escalante\n",
    "### Last Updated: 05/14/2024"
   ]
  },
  {
   "cell_type": "code",
   "execution_count": 50,
   "metadata": {},
   "outputs": [],
   "source": [
    "def plate(uniq_DNA, Total_CFUs_pickable):\n",
    "    DNAs = []\n",
    "    plte = []\n",
    "    for DNA in range(0,uniq_DNA):\n",
    "        DNAs.append(DNA)\n",
    "    counter = 0\n",
    "    for CFUs in range(0,Total_CFUs_pickable):\n",
    "        tracker = round(Total_CFUs_pickable/uniq_DNA) + Total_CFUs_pickable % uniq_DNA\n",
    "        if counter <= max(DNAs):\n",
    "            plte.append(DNAs[counter])\n",
    "            counter += 1\n",
    "        elif counter > max(DNAs):\n",
    "            counter = 0\n",
    "            plte.append(DNAs[counter])\n",
    "            counter += 1\n",
    "    return plte\n",
    "        "
   ]
  }
 ],
 "metadata": {
  "kernelspec": {
   "display_name": "Python 3",
   "language": "python",
   "name": "python3"
  },
  "language_info": {
   "codemirror_mode": {
    "name": "ipython",
    "version": 3
   },
   "file_extension": ".py",
   "mimetype": "text/x-python",
   "name": "python",
   "nbconvert_exporter": "python",
   "pygments_lexer": "ipython3",
   "version": "3.7.1"
  }
 },
 "nbformat": 4,
 "nbformat_minor": 2
}

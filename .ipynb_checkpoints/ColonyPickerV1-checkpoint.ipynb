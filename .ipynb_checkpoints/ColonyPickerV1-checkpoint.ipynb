{
 "cells": [
  {
   "cell_type": "markdown",
   "metadata": {},
   "source": [
    "# Colony Picking Optomizer\n",
    "### Author: Frank Escalante\n",
    "### Last Updated: 05/14/2024"
   ]
  },
  {
   "cell_type": "code",
   "execution_count": 1,
   "metadata": {
    "scrolled": true
   },
   "outputs": [],
   "source": [
    "import numpy as np\n",
    "import pandas as pd\n",
    "import matplotlib.pyplot as plt\n",
    "import matplotlib.image as img\n",
    "import cv2\n",
    "import random"
   ]
  },
  {
   "cell_type": "code",
   "execution_count": 274,
   "metadata": {},
   "outputs": [],
   "source": [
    "def plate(uniq_DNA, Total_CFUs_pickable,plt_ID):\n",
    "    DNAs = []\n",
    "    plte = []\n",
    "    for DNA in range(0,uniq_DNA):\n",
    "        DNAs.append(DNA)\n",
    "    counter = 0\n",
    "    for CFUs in range(0,Total_CFUs_pickable):\n",
    "        tracker = round(Total_CFUs_pickable/uniq_DNA) + Total_CFUs_pickable % uniq_DNA\n",
    "        if counter <= max(DNAs):\n",
    "            plte.append(DNAs[counter])\n",
    "            counter += 1\n",
    "        elif counter > max(DNAs):\n",
    "            counter = 0\n",
    "            plte.append(DNAs[counter])\n",
    "            counter += 1\n",
    "    return (plte,plt_ID)\n",
    "\n",
    "def plt_imgr(images):\n",
    "    pickable_CFUs_per_plate = []\n",
    "    for imagee in images:\n",
    "        cimg = cv2.imread(imagee) #upload image; in color\n",
    "\n",
    "        img = cv2.imread(imagee,0) #upload image; second arg 0 corresponds to grayscale image upload\n",
    "\n",
    "        #img = cv2.resize(img, (0, 0), fx = 0.5, fy = 0.5) #resize to half the size\n",
    "        img = cv2.medianBlur(img,5) # Blur the image; sometimes increases accuracy of algorithm\n",
    "        edges = cv2.Canny(img, threshold1=10, threshold2=30) #convert image to edges\n",
    "\n",
    "        # Perform the hough transform to detect circles\n",
    "        # First arg = gray scaled image\n",
    "        # Second arg = Hough method\n",
    "        # Third arg = ??? leave alone\n",
    "        # Fourth arg = The min distance between centers of circles found\n",
    "        # Fifth, Sixth Args = Determine the thresholds for circle detection; the higher the values the more accurate;\n",
    "        #      Fifth arg has a ceiling at 300; for low resolution or unclear images try lowering the values\n",
    "        # Seventh, Eigth args = Determine max and min sizes for circles allowed to be detected\n",
    "        circles = cv2.HoughCircles(edges,cv2.HOUGH_GRADIENT,1,10, param1=160,param2=10,minRadius=2,maxRadius=7)\n",
    "        #print(type(circles))\n",
    "\n",
    "        # take the vector output of circles and approximate the center location and radius via rounding to the 2nd decimal place\n",
    "        detected_circles = np.uint16(np.around(circles,2))\n",
    "\n",
    "        # Now draw the detected circles over the image\n",
    "        for circle_parameters in detected_circles[0,:]:\n",
    "            x_coord = circle_parameters[0]\n",
    "            y_coord = circle_parameters[1]\n",
    "            radius = circle_parameters[2]\n",
    "        # draw the outer circle\n",
    "            cv2.circle(cimg,(x_coord,y_coord),radius,(255,0,0),1) # the last parameter dictates the thickness of the circles\n",
    "        # draw the center of the circle; give the radius of the inner circle (center) a very small radius ~1\n",
    "            cv2.circle(cimg,(x_coord,y_coord),1,(0,0,255),1) # The tuple represents the color of the circles\n",
    "\n",
    "        pickable_CFUs = detected_circles.shape[1] - 50 # The method seems to always overestimate, so a random 50 is subtracted\n",
    "        ID = str(imagee[:-4])+ '_' + str(pickable_CFUs) + '.jpg'\n",
    "\n",
    "        cv2.imwrite(ID,cimg)\n",
    "        pickable_CFUs_per_plate.append((pickable_CFUs, ID))\n",
    "    return pickable_CFUs_per_plate\n",
    "\n",
    "def simulator(trials, Unique_DNA, plates_info):\n",
    "    trial_results = []\n",
    "    plate = plates_info[0]\n",
    "    ID = plates_info[1]\n",
    "    ttl_CFUs_availible = len(plate)\n",
    "    for trial in range(0, ttl_trials):\n",
    "        CFUs_Picked = []\n",
    "        ttl_picks = 0\n",
    "        plate_copy = plate.copy()\n",
    "    \n",
    "        while list(set(plate)) != list(set(CFUs_Picked)):\n",
    "            CFU = random.choice(plate_copy)\n",
    "            index = plate_copy.index(CFU)\n",
    "            picked_CFU = plate_copy.pop(index)\n",
    "            CFUs_Picked.append(picked_CFU)\n",
    "            ttl_picks +=1\n",
    "        trial_results.append(ttl_picks)\n",
    "\n",
    "#trial_results\n",
    "    n, bins, patches = plt.hist(trial_results,bins = int((Unique_DNA-1)* ttl_CFUs_availible/Unique_DNA)+1,normed = 1)\n",
    "    plt.title(\"Number of Colony Picks Required For a Complete Library\")\n",
    "    plt.xlabel(\"Total CFUs Picked\")\n",
    "    plt.annotate(\"Plate ID: \" + ID.split('_')[0] + \"\\nEvents Simulated: \" + str(ttl_trials) + '\\nTotal Pickable CFUs: ' + str(ttl_CFUs_availible) + '\\nUnique DNA Constructs: ' + str(Unique_DNA), xy =(0.6,0.8), xycoords = 'axes fraction', weight='bold',size = 8)\n",
    "    plt.savefig(ID[:-4] + ' Simulation Results.jpeg')\n",
    "    plt.show()\n",
    "    return (n, bins, patches, ID.split('_')[0])\n",
    "\n",
    "def integrator(confidence_interval, plate_results, trials):\n",
    "    trails_to_success = list(plate_results[0])\n",
    "    bins = list(np.diff(plate_results[1]))\n",
    "    bins_info = (bins, plate_results)\n",
    "    ID = list(plate_results[3])\n",
    "    plate_ID = ''\n",
    "    for letter in ID:\n",
    "        plate_ID += letter\n",
    "\n",
    "    Area = 0\n",
    "    while Area < confidence_interval:\n",
    "        for coords in range(0,len(bins)-1):\n",
    "            pick = plate_results[1][coords]\n",
    "            dx = bins[coords]\n",
    "            dA = trails_to_success[coords] * dx\n",
    "            Area += dA\n",
    "            if Area >= confidence_interval:\n",
    "                final_bin = round(pick)\n",
    "                break\n",
    "    required_picks = int(final_bin)+1\n",
    "    print(str(required_picks) + \" picks are required to obtain all constructs in the library with a \" + str(100*confidence_interval)+ \"% confidence interval.\")\n",
    "\n",
    "    return (plate_ID, required_picks)"
   ]
  },
  {
   "cell_type": "code",
   "execution_count": 275,
   "metadata": {},
   "outputs": [
    {
     "data": {
      "image/png": "[encoded data removed]",
      "text/plain": [
       "<Figure size 432x288 with 1 Axes>"
      ]
     },
     "metadata": {
      "needs_background": "light"
     },
     "output_type": "display_data"
    },
    {
     "name": "stdout",
     "output_type": "stream",
     "text": [
      "162 picks are required to obtain all constructs in the library with a 95.0% confidence interval.\n"
     ]
    }
   ],
   "source": [
    "unique_DNAs_per_plate = 30\n",
    "trials = 5000\n",
    "CF_interval = 0.95\n",
    "\n",
    "CFUs_all_plates = plt_imgr(['Yeast Test Plate.png'])\n",
    "Simulation_plates = []\n",
    "for plte in CFUs_all_plates:\n",
    "    plate_simulation = plate(unique_DNAs_per_plate,plte[0],plte[1])\n",
    "    Simulation_plates.append(plate_simulation)\n",
    "    \n",
    "simulation_results = []\n",
    "for simulated_plate in Simulation_plates:\n",
    "    results = simulator(trials, unique_DNAs_per_plate, simulated_plate)\n",
    "    #print((len(results[0]), len(results[1])))\n",
    "    integration_results = integrator(CF_interval, results, trials)\n",
    "    \n",
    "    simulation_results.append((results, integration_results))"
   ]
  },
  {
   "cell_type": "code",
   "execution_count": 241,
   "metadata": {
    "scrolled": false
   },
   "outputs": [
    {
     "data": {
      "text/plain": [
       "0.9500000000000002"
      ]
     },
     "execution_count": 241,
     "metadata": {},
     "output_type": "execute_result"
    }
   ],
   "source": [
    "\n"
   ]
  },
  {
   "cell_type": "code",
   "execution_count": 132,
   "metadata": {},
   "outputs": [
    {
     "data": {
      "text/plain": [
       "0.3711864406779668"
      ]
     },
     "execution_count": 132,
     "metadata": {},
     "output_type": "execute_result"
    }
   ],
   "source": []
  },
  {
   "cell_type": "code",
   "execution_count": 221,
   "metadata": {},
   "outputs": [
    {
     "data": {
      "text/plain": [
       "'Yeast Test Plate_605.jpg'"
      ]
     },
     "execution_count": 221,
     "metadata": {},
     "output_type": "execute_result"
    }
   ],
   "source": []
  },
  {
   "cell_type": "code",
   "execution_count": null,
   "metadata": {},
   "outputs": [],
   "source": []
  }
 ],
 "metadata": {
  "kernelspec": {
   "display_name": "Python 3",
   "language": "python",
   "name": "python3"
  },
  "language_info": {
   "codemirror_mode": {
    "name": "ipython",
    "version": 3
   },
   "file_extension": ".py",
   "mimetype": "text/x-python",
   "name": "python",
   "nbconvert_exporter": "python",
   "pygments_lexer": "ipython3",
   "version": "3.7.1"
  }
 },
 "nbformat": 4,
 "nbformat_minor": 2
}
